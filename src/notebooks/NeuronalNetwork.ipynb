{
  "nbformat": 4,
  "nbformat_minor": 0,
  "metadata": {
    "colab": {
      "name": "NeuronalNetwork.ipynb",
      "provenance": [],
      "collapsed_sections": [],
      "authorship_tag": "ABX9TyPzXj6Rpo05syCwx3ARdM1a",
      "include_colab_link": true
    },
    "kernelspec": {
      "name": "python3",
      "display_name": "Python 3"
    },
    "language_info": {
      "name": "python"
    }
  },
  "cells": [
    {
      "cell_type": "markdown",
      "metadata": {
        "id": "view-in-github",
        "colab_type": "text"
      },
      "source": [
        "<a href=\"https://colab.research.google.com/github/DanRivaille/Perceptron-Multicapa/blob/master/src/notebooks/NeuronalNetwork.ipynb\" target=\"_parent\"><img src=\"https://colab.research.google.com/assets/colab-badge.svg\" alt=\"Open In Colab\"/></a>"
      ]
    },
    {
      "cell_type": "markdown",
      "metadata": {
        "id": "jGaRFENrQ4eA"
      },
      "source": [
        "# Definición de la neurona\n",
        "Se define la estructura de la neurona, la cual contendrá toda la información necesaria para que pueda realizar las operaciones que requiere."
      ]
    },
    {
      "cell_type": "code",
      "metadata": {
        "id": "sYgHZilTQjDS"
      },
      "source": [
        "import random\n",
        "\n",
        "class Neuron:\n",
        "  def __init__(self, function, value=0.0, id=None):\n",
        "    self.value = value\n",
        "    self.id = id\n",
        "    self.funct = function\n",
        "    self.der_funct = lambda F_x: F_x * (1 - F_x)\n",
        "    self.next_layer = []\n",
        "    self.prev_layer = []\n",
        "    self.weights = []\n",
        "    self.bias = 0 # no yet implemented\n",
        "\n",
        "\n",
        "  def add_layer(self, nodes_layer=None):\n",
        "    self.prev_layer = nodes_layer\n",
        "    \n",
        "    for node in nodes_layer:\n",
        "      node.next_layer.append(self)\n",
        "      \n",
        "    self.weights = [random.random() for n in nodes_layer]\n",
        "\n",
        "\n",
        "  def calculate_value(self, apply_function=True):\n",
        "    sum = 0.0\n",
        "    for (index, node) in enumerate(self.prev_layer):\n",
        "      sum += node.value * self.weights[index]\n",
        "\n",
        "    self.value = sum + self.bias\n",
        "\n",
        "    if apply_function:\n",
        "      self.value = self.funct(self.value)\n",
        "\n",
        "    return self.value"
      ],
      "execution_count": 35,
      "outputs": []
    },
    {
      "cell_type": "markdown",
      "metadata": {
        "id": "IY8Y7_yAYmI8"
      },
      "source": [
        "## Probando la neurona\n",
        "Se realizan algunas pruebas para verificar que todas las funciones las realiza de una forma correcta.\n",
        "  Se crea una neurona que use la función sigmoide como función de activación, luego se le agrega una capa a partir de los valores que deberian tener los nodos. Por ultimo se calcula el valor activado de la neurona."
      ]
    },
    {
      "cell_type": "code",
      "metadata": {
        "colab": {
          "base_uri": "https://localhost:8080/"
        },
        "id": "BIUBPfFwRnij",
        "outputId": "8a9c90af-d2d4-4ce6-9798-7a39df3e57c9"
      },
      "source": [
        "import math\n",
        "\n",
        "def sigmoide(x):\n",
        "  return 1 / (1 + math.exp(-x))\n",
        "\n",
        "values = [0.34, 0.99, 0.03]\n",
        "nodes = [Neuron(sigmoide, v) for v in values]\n",
        "\n",
        "n = Neuron(sigmoide)\n",
        "n.add_layer(nodes)\n",
        "\n",
        "n.calculate_value()"
      ],
      "execution_count": 2,
      "outputs": [
        {
          "output_type": "execute_result",
          "data": {
            "text/plain": [
              "0.550154918047423"
            ]
          },
          "metadata": {
            "tags": []
          },
          "execution_count": 2
        }
      ]
    },
    {
      "cell_type": "markdown",
      "metadata": {
        "id": "0-sbtsvXZoCo"
      },
      "source": [
        "# Definición de la red neuronal\n",
        "Se defina la estructura de la red neuronal, la cual tendra las funciones básicas para que pueda operar."
      ]
    },
    {
      "cell_type": "code",
      "metadata": {
        "id": "MwZ6RtNqZ4yG"
      },
      "source": [
        "class NeuronalNetwork:\n",
        "  def __init__(self, cant_input, cant_output, function):\n",
        "    self.input_layer = [Neuron(function, id=(0, i + 1)) for i in range(cant_input)]\n",
        "    self.output_layer = [Neuron(function, id=(-1, i + 1)) for i in range(cant_output)]\n",
        "    self.hidden_layers = []\n",
        "\n",
        "  def is_empty(self):\n",
        "    return len(self.hidden_layers) == 0\n",
        "\n",
        "  def get_function(self):\n",
        "    return self.input_layer[0].funct\n",
        "\n",
        "  def add_layers(self, layers):\n",
        "    # Se obtiene la malla\n",
        "    self.hidden_layers = self._make_connections(layers)\n",
        "\n",
        "   # Se conecta el principio de la malla con la capa de entrada\n",
        "    for node in self.hidden_layers[0]:\n",
        "      node.add_layer(nodes_layer=self.input_layer)\n",
        "\n",
        "    # Se conecta la capa de salida con el final de la malla\n",
        "    for node in self.output_layer:\n",
        "      node.add_layer(nodes_layer=self.hidden_layers[-1])\n",
        "\n",
        "\n",
        "  def fit(self, X, y, learning_rate=0.1):\n",
        "    # Por cada vector del conjunto de inputs, se ajusta el modelo\n",
        "    for (i, x) in enumerate(X):\n",
        "      self.predict(x)\n",
        "      deltas = self._calculate_deltas(y[i])\n",
        "      self._update_weights(deltas, learning_rate)\n",
        "\n",
        "  \n",
        "  def predict(self, input):\n",
        "    # Se copian los valores del input en los nodos de la capa de entrada\n",
        "    for (index, value) in enumerate(input):\n",
        "      self.input_layer[index].value = value\n",
        "\n",
        "    # Se calculan los valores de las capas ocultas\n",
        "    for layer in self.hidden_layers:\n",
        "      for node in layer:\n",
        "        node.calculate_value()\n",
        "\n",
        "    # Se calcula la salida sin aplicar la funcion de activacion al valor\n",
        "    for node in self.output_layer:\n",
        "      node.calculate_value()\n",
        "\n",
        "    return [node.value for node in self.output_layer]\n",
        "\n",
        "\n",
        "  def _make_connections(self, layers):\n",
        "    '''\n",
        "    Realiza las conexiones entre las capas ingresadas, y retorna una malla de \n",
        "    la red neuronal (sin entrada ni salida)\n",
        "    '''\n",
        "    nodes_mesh = self._create_mesh(layers)\n",
        "    length = len(layers)\n",
        "\n",
        "    for i in range(1, length):\n",
        "      for node in nodes_mesh[i]:\n",
        "        node.add_layer(nodes_layer=nodes_mesh[i - 1])\n",
        "\n",
        "    return nodes_mesh\n",
        "\n",
        "\n",
        "  def _create_mesh(self, layers):\n",
        "    '''\n",
        "    Crea una malla de capas, pero sin conecciones entre ellas\n",
        "    '''\n",
        "    nodes_mesh = []\n",
        "    function = self.get_function()\n",
        "\n",
        "    for current_layer in layers:\n",
        "      new_nodes_layer = [Neuron(function, id=(current_layer, j + 1)) for j in range(current_layer)] # for debug\n",
        "      #new_nodes_layer = [Neuron(function) for j in range(current_layer)]\n",
        "      nodes_mesh.append(new_nodes_layer)\n",
        "\n",
        "    return nodes_mesh\n",
        "\n",
        "\n",
        "  def _update_weights(self, deltas, learning_rate):\n",
        "    # Se actualizan los pesos de la primera capa oculta\n",
        "    self._update_layer_weight(self.input_layer, 0, deltas, learning_rate)\n",
        "\n",
        "    # Se actualizan los pesos de la segunda capa oculta\n",
        "    for (i, layer) in enumerate(self.hidden_layers):\n",
        "      self._update_layer_weight(layer, i + 1, deltas, learning_rate)\n",
        "\n",
        "\n",
        "  def _update_layer_weight(self, layer, i_delta, deltas, learning_rate):\n",
        "    for (i, node) in enumerate(layer):\n",
        "      for (j, next) in enumerate(node.next_layer):\n",
        "        new_weight = -learning_rate * deltas[i_delta][j] * next.value\n",
        "        next.weights[i] = new_weight\n",
        "\n",
        "\n",
        "  def _calculate_deltas(self, y):\n",
        "    deltas = self._create_delta_set()\n",
        "    \n",
        "    # Se calculan los deltas de la capa de salida\n",
        "    for (index, node) in enumerate(self.output_layer):\n",
        "      deltas[-1][index] = (node.value - y[index]) * node.der_funct(node.value)\n",
        "\n",
        "    length_hidden = len(self.hidden_layers)\n",
        "\n",
        "    # Se calculan los deltas de las capas ocultas\n",
        "    for i in range(length_hidden):\n",
        "      i_lay = length_hidden - i - 1\n",
        "      layer = self.hidden_layers[i_lay]\n",
        "\n",
        "      for (j, node) in enumerate(layer):\n",
        "        sum = 0.0\n",
        "\n",
        "        for (k, next) in enumerate(node.next_layer):\n",
        "          sum += deltas[i_lay + 1][k] * next.weights[j]\n",
        "\n",
        "        deltas[i_lay][j] = sum * node.der_funct(node.value)\n",
        "\n",
        "    return deltas\n",
        "\n",
        "  def _create_delta_set(self):\n",
        "    deltas_hidden = [[0.0 for v in layer] for layer in self.hidden_layers]\n",
        "    deltas_output = [0.0 for v in self.output_layer]\n",
        "\n",
        "    return [*deltas_hidden, deltas_output]"
      ],
      "execution_count": 32,
      "outputs": []
    },
    {
      "cell_type": "markdown",
      "metadata": {
        "id": "7GH-pQ_MBxCc"
      },
      "source": [
        "## Probando la red neuronal"
      ]
    },
    {
      "cell_type": "code",
      "metadata": {
        "id": "35r6lNMOgIlp"
      },
      "source": [
        "layers = [2, 3]\n",
        "\n",
        "nn = NeuronalNetwork(3, 2, sigmoide)\n",
        "nn.add_layers(layers)"
      ],
      "execution_count": 112,
      "outputs": []
    },
    {
      "cell_type": "code",
      "metadata": {
        "id": "1hpyhQZqGP6k"
      },
      "source": [
        "X = [[1, 2, 3], [4, 5, 6], [7, 8, 9]]\n",
        "y = [[1, 2], [2, 3], [3, 4]]\n",
        "\n",
        "nn.fit(X, y)"
      ],
      "execution_count": 37,
      "outputs": []
    },
    {
      "cell_type": "code",
      "metadata": {
        "colab": {
          "base_uri": "https://localhost:8080/"
        },
        "id": "L22u1SuDkhyS",
        "outputId": "0a2c8042-f3cc-4d5b-bb41-ec16027cf215"
      },
      "source": [
        "x = [1, 1, 6]\n",
        "print(nn.predict(x))"
      ],
      "execution_count": 116,
      "outputs": [
        {
          "output_type": "stream",
          "text": [
            "[0.7703744725928824, 0.7981717715772892]\n"
          ],
          "name": "stdout"
        }
      ]
    },
    {
      "cell_type": "markdown",
      "metadata": {
        "id": "z3MFYTMr-CGt"
      },
      "source": [
        "# Validacion de la red"
      ]
    },
    {
      "cell_type": "markdown",
      "metadata": {
        "id": "nuBud6jV-RTc"
      },
      "source": [
        "## Funciones para comprobar el estado de la red en cada operacion\n",
        "A continuacion se definen algunas funciones para comprobar el estado de la red, antes y despues de cada operacion que realiza, para verificar que este funcionando correctamente"
      ]
    },
    {
      "cell_type": "markdown",
      "metadata": {
        "id": "j0_sEV0zNOX_"
      },
      "source": [
        "Funcion que mostrar la informacion de una conexion de la red neuronal, los distintos niveles de detalle muestran la siguiente informacion:\n",
        "\n",
        "\n",
        "1.   Se muestra solo el id del nodo de la conexion\n",
        "2.   Se muestra el valor del peso de la conexion y el id del nodo\n",
        "3.   Se muestra el valor del peso de la conexion, el id y el valor del nodo\n",
        "\n"
      ]
    },
    {
      "cell_type": "code",
      "metadata": {
        "id": "5UPGJ_GUEXsO"
      },
      "source": [
        "def print_connection_info(verbose_level, node, prev, index_weight):\n",
        "  if 1 == verbose_level:\n",
        "    print(f'-> {prev.id}')\n",
        "  elif 2 == verbose_level:\n",
        "    print(f'w: {node.weights[index_weight]} ====>>   {prev.id}')\n",
        "  elif 3 == verbose_level:\n",
        "    print(f'w: {node.weights[index_weight]} ====>>   {prev.id}: ({prev.value})')"
      ],
      "execution_count": 138,
      "outputs": []
    },
    {
      "cell_type": "markdown",
      "metadata": {
        "id": "RkbS5hzSNnCH"
      },
      "source": [
        "Funcion que muestra la informacion de un nodo, los distintos niveles de detalle muestran la siguiente informacion:\n",
        "\n",
        "1. El id del nodo\n",
        "2. Lo mismo que el nivel 1\n",
        "3. El id y el valor del nodo"
      ]
    },
    {
      "cell_type": "code",
      "metadata": {
        "id": "vGvQN9_EMxco"
      },
      "source": [
        "def print_node_info(verbose_level, node):\n",
        "  if 1 == verbose_level or 2 == verbose_level:\n",
        "    print(f'{node.id}')\n",
        "  elif 3 == verbose_level:\n",
        "    print(f'{node.id}: ({node.value})')"
      ],
      "execution_count": 144,
      "outputs": []
    },
    {
      "cell_type": "markdown",
      "metadata": {
        "id": "ND37xz83N5Ip"
      },
      "source": [
        "Funcion que muestra el estado actual de la red neuronal, da informacion de las capas de la red, la cantidad de nodos y sus conexiones. Los distintos niveles de detalle muestran la siguiente informacion:\n",
        "\n",
        "1. Se muestran los nodos de cada capa, y por cada nodo, se muestra a quienes esta conectado\n",
        "\n",
        "2. Se muestra lo mismo que arriba, pero ademas muestra los pesos de las conexiones\n",
        "\n",
        "3. Agrega ademas los valores de cada nodo mostrado"
      ]
    },
    {
      "cell_type": "code",
      "metadata": {
        "id": "9L7BAF3n-Qzl"
      },
      "source": [
        "def show_neuronal_network(network, verbose_level=1):\n",
        "  print('* Input layer nodes have \"0, x\" by id')\n",
        "  print('* Output layer nodes have \"-1, x\" by id')\n",
        "  print('* Hidden layers nodes have \"n, x\" by id, where n represents the length of layer\\n')\n",
        "\n",
        "  for (i, layer) in enumerate(network.hidden_layers):\n",
        "    print('Hidden Layer: ', i + 1)\n",
        "\n",
        "    for node in layer:\n",
        "      print_node_info(verbose_level, node)\n",
        "\n",
        "      for (k, prev) in enumerate(node.prev_layer):\n",
        "        print_connection_info(verbose_level, node, prev, k)\n",
        "\n",
        "      print()\n",
        "\n",
        "  print('Output Layer')\n",
        "  for node in network.output_layer:\n",
        "    print_node_info(verbose_level, node)\n",
        "\n",
        "    for (j, prev) in enumerate(node.prev_layer):\n",
        "      print_connection_info(verbose_level, node, prev, j)\n",
        "\n",
        "    print()"
      ],
      "execution_count": 143,
      "outputs": []
    },
    {
      "cell_type": "markdown",
      "metadata": {
        "id": "RF4pnsU2Of42"
      },
      "source": [
        "Muestra la informacion del estado de la neurona luego de predecir un valor, ademas del valor que predijo esta. Tienen los mismos niveles de detalle que *show_neuronal_network*"
      ]
    },
    {
      "cell_type": "code",
      "metadata": {
        "id": "ZBzeEeXNKJWN"
      },
      "source": [
        "def show_predict_info(network, x, verbose_level=1):\n",
        "  y = nn.predict(x)\n",
        "\n",
        "  print(f'Value to predict: {x}')\n",
        "  print(f'Predicted value: {y}\\n')\n",
        "  print('Network status information after predicting: \\n')\n",
        "\n",
        "  show_neuronal_network(nn, verbose_level)"
      ],
      "execution_count": 125,
      "outputs": []
    },
    {
      "cell_type": "code",
      "metadata": {
        "colab": {
          "base_uri": "https://localhost:8080/"
        },
        "id": "fy--7E-DB2cu",
        "outputId": "6e88bc3d-831f-42fe-e5e5-5c08fd10e787"
      },
      "source": [
        "x = [3, 6, 9]\n",
        "\n",
        "show_predict_info(nn, x, 3)"
      ],
      "execution_count": 148,
      "outputs": [
        {
          "output_type": "stream",
          "text": [
            "Value to predict: [3, 6, 9]\n",
            "Predicted value: [0.7735552392949097, 0.8014371715283303]\n",
            "\n",
            "Network status information after predicting: \n",
            "\n",
            "* Input layer nodes have \"0, x\" by id\n",
            "* Output layer nodes have \"-1, x\" by id\n",
            "* Hidden layers nodes have \"n, x\" by id, where n represents the length of layer\n",
            "\n",
            "Hidden Layer:  1\n",
            "(2, 1): (0.9992567620949162)\n",
            "w: 0.44381848022171433 ====>>   (0, 1): (3)\n",
            "w: 0.6220066751196415 ====>>   (0, 2): (6)\n",
            "w: 0.23780615151157025 ====>>   (0, 3): (9)\n",
            "\n",
            "(2, 2): (0.9999985976783042)\n",
            "w: 0.9577371069054028 ====>>   (0, 1): (3)\n",
            "w: 0.8751277876086395 ====>>   (0, 2): (6)\n",
            "w: 0.5948224324594205 ====>>   (0, 3): (9)\n",
            "\n",
            "Hidden Layer:  2\n",
            "(3, 1): (0.6803478761431064)\n",
            "w: 0.510843843557474 ====>>   (2, 1): (0.9992567620949162)\n",
            "w: 0.24490713679834553 ====>>   (2, 2): (0.9999985976783042)\n",
            "\n",
            "(3, 2): (0.8017103738520054)\n",
            "w: 0.7350182231041489 ====>>   (2, 1): (0.9992567620949162)\n",
            "w: 0.6625476919593624 ====>>   (2, 2): (0.9999985976783042)\n",
            "\n",
            "(3, 3): (0.7061430172015486)\n",
            "w: 0.851286914498967 ====>>   (2, 1): (0.9992567620949162)\n",
            "w: 0.026070425765384875 ====>>   (2, 2): (0.9999985976783042)\n",
            "\n",
            "Output Layer\n",
            "(-1, 1): (0.7735552392949097)\n",
            "w: 0.538673153444744 ====>>   (3, 1): (0.6803478761431064)\n",
            "w: 0.5356828634214549 ====>>   (3, 2): (0.8017103738520054)\n",
            "w: 0.612550707143681 ====>>   (3, 3): (0.7061430172015486)\n",
            "\n",
            "(-1, 2): (0.8014371715283303)\n",
            "w: 0.9747810629386366 ====>>   (3, 1): (0.6803478761431064)\n",
            "w: 0.36268656432539637 ====>>   (3, 2): (0.8017103738520054)\n",
            "w: 0.6250025793461758 ====>>   (3, 3): (0.7061430172015486)\n",
            "\n"
          ],
          "name": "stdout"
        }
      ]
    }
  ]
}