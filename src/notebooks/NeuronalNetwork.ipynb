{
  "nbformat": 4,
  "nbformat_minor": 0,
  "metadata": {
    "colab": {
      "name": "NeuronalNetwork.ipynb",
      "provenance": [],
      "collapsed_sections": [],
      "authorship_tag": "ABX9TyPwbBsytytdVsF39O1X7wx/",
      "include_colab_link": true
    },
    "kernelspec": {
      "name": "python3",
      "display_name": "Python 3"
    },
    "language_info": {
      "name": "python"
    }
  },
  "cells": [
    {
      "cell_type": "markdown",
      "metadata": {
        "id": "view-in-github",
        "colab_type": "text"
      },
      "source": [
        "<a href=\"https://colab.research.google.com/github/DanRivaille/Perceptron-Multicapa/blob/master/src/notebooks/NeuronalNetwork.ipynb\" target=\"_parent\"><img src=\"https://colab.research.google.com/assets/colab-badge.svg\" alt=\"Open In Colab\"/></a>"
      ]
    },
    {
      "cell_type": "markdown",
      "metadata": {
        "id": "jGaRFENrQ4eA"
      },
      "source": [
        "# Definición de la neurona\n",
        "Se define la estructura de la neurona, la cual contendrá toda la información necesaria para que pueda realizar las operaciones que requiere."
      ]
    },
    {
      "cell_type": "code",
      "metadata": {
        "id": "sYgHZilTQjDS"
      },
      "source": [
        "import random\n",
        "\n",
        "class Neuron:\n",
        "  def __init__(self, function, value=0.0, id=None):\n",
        "    self.value = value\n",
        "    self.id = id\n",
        "    self.funct = function\n",
        "    self.der_funct = lambda x: self.funct(x) * (1 - self.funct(x))\n",
        "    self.next_layer = []\n",
        "    self.prev_layer = []\n",
        "    self.curr_weights = []\n",
        "    self.upd_weights = []\n",
        "    self.bias = 0\n",
        "\n",
        "\n",
        "  def add_layer(self, weights=None, bias=1, nodes_layer=None):\n",
        "    self.prev_layer = nodes_layer\n",
        "    cant_nodes = len(nodes_layer)\n",
        "      \n",
        "    if weights != None:\n",
        "      self.curr_weights = weights\n",
        "    else:\n",
        "      self.curr_weights = [random.random() for i in range(cant_nodes)]\n",
        "\n",
        "    self.bias = bias\n",
        "\n",
        "\n",
        "  def calculate_value(self):\n",
        "    sum = 0.0\n",
        "    for (index, node) in enumerate(self.prev_layer):\n",
        "      sum += node.value * self.curr_weights[index]\n",
        "\n",
        "    self.value = self.funct(sum + self.bias)\n",
        "    return self.value"
      ],
      "execution_count": 20,
      "outputs": []
    },
    {
      "cell_type": "markdown",
      "metadata": {
        "id": "IY8Y7_yAYmI8"
      },
      "source": [
        "## Probando la neurona\n",
        "Se realizan algunas pruebas para verificar que todas las funciones las realiza de una forma correcta.\n",
        "  Se crea una neurona que use la función sigmoide como función de activación, luego se le agrega una capa a partir de los valores que deberian tener los nodos. Por ultimo se calcula el valor activado de la neurona."
      ]
    },
    {
      "cell_type": "code",
      "metadata": {
        "colab": {
          "base_uri": "https://localhost:8080/"
        },
        "id": "BIUBPfFwRnij",
        "outputId": "4df21992-6513-4ccf-ae3e-a64e488dbc60"
      },
      "source": [
        "import math\n",
        "\n",
        "def sigmoide(x):\n",
        "  return 1 / (1 + math.exp(-x))\n",
        "\n",
        "values = [0.34, 0.99, 0.03]\n",
        "nodes = [Neuron(sigmoide, v) for v in values]\n",
        "\n",
        "weights = [0.5, 4.7, 40.07]\n",
        "biases = [0.1, 0.05, 0.08]\n",
        "\n",
        "n = Neuron(sigmoide)\n",
        "n.add_layer(weights, sum(biases), nodes)\n",
        "\n",
        "n.calculate_value()"
      ],
      "execution_count": 21,
      "outputs": [
        {
          "output_type": "execute_result",
          "data": {
            "text/plain": [
              "0.9980830478801297"
            ]
          },
          "metadata": {
            "tags": []
          },
          "execution_count": 21
        }
      ]
    },
    {
      "cell_type": "markdown",
      "metadata": {
        "id": "0-sbtsvXZoCo"
      },
      "source": [
        "# Definición de la red neuronal\n",
        "Se defina la estructura de la red neuronal, la cual tendra las funciones básicas para que pueda operar."
      ]
    },
    {
      "cell_type": "code",
      "metadata": {
        "id": "MwZ6RtNqZ4yG"
      },
      "source": [
        "class NeuronalNetwork:\n",
        "  def __init__(self, cant_input, cant_output, function):\n",
        "    self.input_layer = [Neuron(function, id=(0, i + 1)) for i in range(cant_input)]\n",
        "    self.output_layer = [Neuron(function, id=(-1, i + 1)) for i in range(cant_output)]\n",
        "    self.hidden_layers = []\n",
        "\n",
        "  def is_empty(self):\n",
        "    return len(self.hidden_layers) == 0\n",
        "\n",
        "  def get_function(self):\n",
        "    return self.input_layer[0].funct\n",
        "\n",
        "  def add_layers(self, layers):\n",
        "    # Se obtiene la malla\n",
        "    self.hidden_layers = self._make_connections(layers)\n",
        "\n",
        "    wi = [[0.1, 0.2, 0.15], [0.5, 0.01, 0.1]]\n",
        "    wo = [[0.5, 0.6, 0.4], [0.3, 0.7, 0.1]]\n",
        "    bi = [[0.2, 0.3, 0.01], [0.05, 0.03, 0.1]]\n",
        "    bo = [[0.07, 0.1, 0.03], [0.009, 0.12, 0.023]]\n",
        "\n",
        "\n",
        "    j = 0\n",
        "    # Se conecta el principio de la malla con la capa de entrada\n",
        "    for node in self.hidden_layers[0]:\n",
        "      node.add_layer(nodes_layer=self.input_layer, weights=wi[j], bias=sum(bi[j]))\n",
        "      j += 1\n",
        "\n",
        "    j = 0\n",
        "    # Se conecta la capa de salida con el final de la malla\n",
        "    for node in self.output_layer:\n",
        "      node.add_layer(nodes_layer=self.hidden_layers[-1], weights=wo[j], bias=sum(bo[j]))\n",
        "      j += 1\n",
        "\n",
        "\n",
        "  def predict(self, input):\n",
        "    # Se copian los valores del input en los nodos de la capa de entrada\n",
        "    for (index, value) in enumerate(input):\n",
        "      self.input_layer[index].value = value\n",
        "\n",
        "    # Se calculan los valores de las capas ocultas\n",
        "    for layer in self.hidden_layers:\n",
        "      for node in layer:\n",
        "        node.calculate_value()\n",
        "        print(f'{node.id}: {node.value}')\n",
        "\n",
        "    # Se calcula la salida\n",
        "    for node in self.output_layer:\n",
        "      node.calculate_value()\n",
        "\n",
        "    return [node.value for node in self.output_layer]\n",
        "\n",
        "\n",
        "  def _make_connections(self, layers):\n",
        "    '''\n",
        "    Realiza las conexiones entre las capas ingresadas, y retorna una malla de \n",
        "    la red neuronal (sin entrada ni salida)\n",
        "    '''\n",
        "    nodes_mesh = self._create_mesh(layers)\n",
        "    length = len(layers)\n",
        "\n",
        "    # For debug\n",
        "    ws = [[0.9, 0.8], [1.2], [0.7], [2.4]]\n",
        "    bs = [[0.01, 0.02], [0.04], [0.05], [0.03]]\n",
        "\n",
        "    j = 0\n",
        "\n",
        "    for i in range(1, length):\n",
        "      for node in nodes_mesh[i]:\n",
        "        node.add_layer(nodes_layer=nodes_mesh[i - 1], weights=ws[j], bias=sum(bs[j]))\n",
        "        j += 1\n",
        "\n",
        "    return nodes_mesh\n",
        "\n",
        "\n",
        "  def _create_mesh(self, layers):\n",
        "    '''\n",
        "    Crea una malla de capas, pero sin conecciones entre ellas\n",
        "    '''\n",
        "    nodes_mesh = []\n",
        "    function = self.get_function()\n",
        "\n",
        "    for current_layer in layers:\n",
        "      new_nodes_layer = [Neuron(function, id=(current_layer, j + 1)) for j in range(current_layer)] # for debug\n",
        "      #new_nodes_layer = [current_layer for j in range(current_layer)]  # for debug\n",
        "      #new_nodes_layer = [Neuron(function) for j in range(current_layer)]\n",
        "      nodes_mesh.append(new_nodes_layer)\n",
        "\n",
        "    return nodes_mesh"
      ],
      "execution_count": 22,
      "outputs": []
    },
    {
      "cell_type": "code",
      "metadata": {
        "id": "35r6lNMOgIlp"
      },
      "source": [
        "layers = [2, 1, 3]\n",
        "\n",
        "nn = NeuronalNetwork(3, 2, sigmoide)\n",
        "nn.add_layers(layers)"
      ],
      "execution_count": 24,
      "outputs": []
    },
    {
      "cell_type": "code",
      "metadata": {
        "id": "QA-sN9K9gwyF"
      },
      "source": [
        "# For debugging\n",
        "def show_mesh(mesh):\n",
        "  for layer in mesh:\n",
        "    for node in layer:\n",
        "      for (index, neight) in enumerate(node.prev_layer):\n",
        "        print(f'{node.id} -> {neight.id}  w: {node.curr_weights[index]} v:{node.value}')"
      ],
      "execution_count": 23,
      "outputs": []
    },
    {
      "cell_type": "code",
      "metadata": {
        "colab": {
          "base_uri": "https://localhost:8080/"
        },
        "id": "neTZSeIqj26t",
        "outputId": "c8997e79-f18a-453f-f46b-f9bc582d3dfa"
      },
      "source": [
        "\n",
        "d = 0.739304579579997 * 0.3 + 0.009 + 0.6535563064237191 * 0.7 + 0.12 + 0.8843939651086795 * 0.1 + 0.023\n",
        "sigmoide(d)"
      ],
      "execution_count": null,
      "outputs": [
        {
          "output_type": "execute_result",
          "data": {
            "text/plain": [
              "0.7149850880113883"
            ]
          },
          "metadata": {
            "tags": []
          },
          "execution_count": 107
        }
      ]
    },
    {
      "cell_type": "code",
      "metadata": {
        "colab": {
          "base_uri": "https://localhost:8080/"
        },
        "id": "L22u1SuDkhyS",
        "outputId": "a0d6b866-1a62-4c7b-ad09-4dd83e043dd4"
      },
      "source": [
        "x = [3, 4.7, 7.8]\n",
        "print(nn.predict(x))"
      ],
      "execution_count": 25,
      "outputs": [
        {
          "output_type": "stream",
          "text": [
            "(2, 1): 0.9488262990829084\n",
            "(2, 2): 0.9246310913535561\n",
            "(1, 1): 0.8352976939290254\n",
            "(3, 1): 0.739304579579997\n",
            "(3, 2): 0.6535563064237191\n",
            "(3, 3): 0.8843939651086795\n",
            "[0.7884393321603765, 0.7149850880113883]\n"
          ],
          "name": "stdout"
        }
      ]
    },
    {
      "cell_type": "code",
      "metadata": {
        "colab": {
          "base_uri": "https://localhost:8080/"
        },
        "id": "r_ZCJzrobHvG",
        "outputId": "256a4dcf-297c-4c4c-a375-b74b34d5b8f2"
      },
      "source": [
        "print('cantidad de nodos de la capa anterior al primer nodo de la primera capa oculta:', len(nn.hidden_layers[0][0].prev_layer))\n",
        "\n",
        "mesh = nn._make_connections(layers)\n",
        "show_mesh(mesh)\n",
        "print()\n",
        "\n",
        "mesh = nn.hidden_layers\n",
        "mesh.insert(0, nn.input_layer)\n",
        "mesh.append(nn.output_layer)\n",
        "\n",
        "print('cantidad de capas totales:', len(mesh))\n",
        "\n",
        "show_mesh(mesh)\n",
        "mesh"
      ],
      "execution_count": 27,
      "outputs": [
        {
          "output_type": "stream",
          "text": [
            "cantidad de nodos de la capa anterior al primer nodo de la primera capa oculta: 3\n",
            "(1, 1) -> (2, 1)  w: 0.9 v:0.0\n",
            "(1, 1) -> (2, 2)  w: 0.8 v:0.0\n",
            "(3, 1) -> (1, 1)  w: 1.2 v:0.0\n",
            "(3, 2) -> (1, 1)  w: 0.7 v:0.0\n",
            "(3, 3) -> (1, 1)  w: 2.4 v:0.0\n",
            "\n",
            "cantidad de capas totales: 5\n",
            "(2, 1) -> (0, 1)  w: 0.1 v:0.9488262990829084\n",
            "(2, 1) -> (0, 2)  w: 0.2 v:0.9488262990829084\n",
            "(2, 1) -> (0, 3)  w: 0.15 v:0.9488262990829084\n",
            "(2, 2) -> (0, 1)  w: 0.5 v:0.9246310913535561\n",
            "(2, 2) -> (0, 2)  w: 0.01 v:0.9246310913535561\n",
            "(2, 2) -> (0, 3)  w: 0.1 v:0.9246310913535561\n",
            "(1, 1) -> (2, 1)  w: 0.9 v:0.8352976939290254\n",
            "(1, 1) -> (2, 2)  w: 0.8 v:0.8352976939290254\n",
            "(3, 1) -> (1, 1)  w: 1.2 v:0.739304579579997\n",
            "(3, 2) -> (1, 1)  w: 0.7 v:0.6535563064237191\n",
            "(3, 3) -> (1, 1)  w: 2.4 v:0.8843939651086795\n",
            "(-1, 1) -> (3, 1)  w: 0.5 v:0.7884393321603765\n",
            "(-1, 1) -> (3, 2)  w: 0.6 v:0.7884393321603765\n",
            "(-1, 1) -> (3, 3)  w: 0.4 v:0.7884393321603765\n",
            "(-1, 2) -> (3, 1)  w: 0.3 v:0.7149850880113883\n",
            "(-1, 2) -> (3, 2)  w: 0.7 v:0.7149850880113883\n",
            "(-1, 2) -> (3, 3)  w: 0.1 v:0.7149850880113883\n"
          ],
          "name": "stdout"
        },
        {
          "output_type": "execute_result",
          "data": {
            "text/plain": [
              "[[<__main__.Neuron at 0x7f1672945e90>,\n",
              "  <__main__.Neuron at 0x7f167236ba90>,\n",
              "  <__main__.Neuron at 0x7f167236b890>],\n",
              " [<__main__.Neuron at 0x7f167236b250>, <__main__.Neuron at 0x7f167236b510>],\n",
              " [<__main__.Neuron at 0x7f167236b390>],\n",
              " [<__main__.Neuron at 0x7f167236b750>,\n",
              "  <__main__.Neuron at 0x7f167236bad0>,\n",
              "  <__main__.Neuron at 0x7f167236b4d0>],\n",
              " [<__main__.Neuron at 0x7f167236b5d0>, <__main__.Neuron at 0x7f167236b8d0>]]"
            ]
          },
          "metadata": {
            "tags": []
          },
          "execution_count": 27
        }
      ]
    }
  ]
}