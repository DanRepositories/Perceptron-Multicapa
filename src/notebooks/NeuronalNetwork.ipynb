{
  "nbformat": 4,
  "nbformat_minor": 0,
  "metadata": {
    "colab": {
      "name": "NeuronalNetwork.ipynb",
      "provenance": [],
      "collapsed_sections": [],
      "authorship_tag": "ABX9TyNau/HYoXV/1LGlkcw2Duz/"
    },
    "kernelspec": {
      "name": "python3",
      "display_name": "Python 3"
    },
    "language_info": {
      "name": "python"
    }
  },
  "cells": [
    {
      "cell_type": "markdown",
      "metadata": {
        "id": "jGaRFENrQ4eA"
      },
      "source": [
        "# Definición de la neurona\n",
        "Se define la estructura de la neurona, la cual contendrá toda la información necesaria para que pueda realizar las operaciones que requiere."
      ]
    },
    {
      "cell_type": "code",
      "metadata": {
        "id": "sYgHZilTQjDS"
      },
      "source": [
        "import random\n",
        "\n",
        "class Neuron:\n",
        "  def __init__(self, function, value=0.0, id=None):\n",
        "    self.value = value\n",
        "    self.id = id\n",
        "    self.funct = function\n",
        "    self.der_funct = lambda F_x: F_x * (1 - F_x)\n",
        "    self.next_layer = []\n",
        "    self.prev_layer = []\n",
        "    self.curr_weights = []\n",
        "    self.upd_weights = []\n",
        "    self.bias = 0\n",
        "\n",
        "\n",
        "  def add_layer(self, weights=None, bias=1, nodes_layer=None):\n",
        "    self.prev_layer = nodes_layer\n",
        "    \n",
        "    for node in nodes_layer:\n",
        "      node.next_layer.append(self)\n",
        "      \n",
        "    if weights != None:\n",
        "      self.curr_weights = weights\n",
        "    else:\n",
        "      self.curr_weights = [random.random() for n in nodes_layer]\n",
        "\n",
        "    self.bias = bias\n",
        "\n",
        "\n",
        "  def calculate_value(self, apply_function=True):\n",
        "    sum = 0.0\n",
        "    for (index, node) in enumerate(self.prev_layer):\n",
        "      sum += node.value * self.curr_weights[index]\n",
        "\n",
        "    self.value = sum + self.bias\n",
        "\n",
        "    if apply_function:\n",
        "      self.value = self.funct(self.value)\n",
        "\n",
        "    return self.value"
      ],
      "execution_count": 1,
      "outputs": []
    },
    {
      "cell_type": "markdown",
      "metadata": {
        "id": "IY8Y7_yAYmI8"
      },
      "source": [
        "## Probando la neurona\n",
        "Se realizan algunas pruebas para verificar que todas las funciones las realiza de una forma correcta.\n",
        "  Se crea una neurona que use la función sigmoide como función de activación, luego se le agrega una capa a partir de los valores que deberian tener los nodos. Por ultimo se calcula el valor activado de la neurona."
      ]
    },
    {
      "cell_type": "code",
      "metadata": {
        "colab": {
          "base_uri": "https://localhost:8080/"
        },
        "id": "BIUBPfFwRnij",
        "outputId": "bc35b1a1-1e31-4f3f-ca5b-3618d97050d4"
      },
      "source": [
        "import math\n",
        "\n",
        "def sigmoide(x):\n",
        "  return 1 / (1 + math.exp(-x))\n",
        "\n",
        "values = [0.34, 0.99, 0.03]\n",
        "nodes = [Neuron(sigmoide, v) for v in values]\n",
        "\n",
        "weights = [0.5, 4.7, 40.07]\n",
        "biases = [0.1, 0.05, 0.08]\n",
        "\n",
        "n = Neuron(sigmoide)\n",
        "n.add_layer(weights, sum(biases), nodes)\n",
        "\n",
        "n.calculate_value()"
      ],
      "execution_count": 2,
      "outputs": [
        {
          "output_type": "execute_result",
          "data": {
            "text/plain": [
              "0.9980830478801297"
            ]
          },
          "metadata": {
            "tags": []
          },
          "execution_count": 2
        }
      ]
    },
    {
      "cell_type": "markdown",
      "metadata": {
        "id": "0-sbtsvXZoCo"
      },
      "source": [
        "# Definición de la red neuronal\n",
        "Se defina la estructura de la red neuronal, la cual tendra las funciones básicas para que pueda operar."
      ]
    },
    {
      "cell_type": "code",
      "metadata": {
        "id": "MwZ6RtNqZ4yG"
      },
      "source": [
        "class NeuronalNetwork:\n",
        "  def __init__(self, cant_input, cant_output, function):\n",
        "    self.input_layer = [Neuron(function, id=(0, i + 1)) for i in range(cant_input)]\n",
        "    self.output_layer = [Neuron(function, id=(-1, i + 1)) for i in range(cant_output)]\n",
        "    self.hidden_layers = []\n",
        "\n",
        "  def is_empty(self):\n",
        "    return len(self.hidden_layers) == 0\n",
        "\n",
        "  def get_function(self):\n",
        "    return self.input_layer[0].funct\n",
        "\n",
        "  def add_layers(self, layers):\n",
        "    # Se obtiene la malla\n",
        "    self.hidden_layers = self._make_connections(layers)\n",
        "\n",
        "    wi = [[0.1, 0.2, 0.15], [0.5, 0.01, 0.1]]\n",
        "    wo = [[0.5, 0.6, 0.4], [0.3, 0.7, 0.1]]\n",
        "    bi = [[0.2, 0.3, 0.01], [0.05, 0.03, 0.1]]\n",
        "    bo = [[0.07, 0.1, 0.03], [0.009, 0.12, 0.023]]\n",
        "\n",
        "\n",
        "    j = 0\n",
        "    # Se conecta el principio de la malla con la capa de entrada\n",
        "    for node in self.hidden_layers[0]:\n",
        "      node.add_layer(nodes_layer=self.input_layer, weights=wi[j], bias=sum(bi[j]))\n",
        "      j += 1\n",
        "\n",
        "    j = 0\n",
        "    # Se conecta la capa de salida con el final de la malla\n",
        "    for node in self.output_layer:\n",
        "      node.add_layer(nodes_layer=self.hidden_layers[-1], weights=wo[j], bias=sum(bo[j]))\n",
        "      j += 1\n",
        "\n",
        "\n",
        "  def fit(self, X, y):\n",
        "    self.predict(X[0])\n",
        "    deltas = self._create_delta_set()\n",
        "    \n",
        "    for (index, node) in enumerate(self.output_layer):\n",
        "      value = node.funct(n.value)\n",
        "      deltas[-1][index] = (value - y[index]) * node.der_funct(value)\n",
        "\n",
        "    for (i_lay, layer) in enumerate(self.hidden_layers):\n",
        "      for (i, node) in enumerate(layer):\n",
        "        sum = 0.0\n",
        "\n",
        "        for (j, next) in enumerate(node.next_layer):\n",
        "          sum += deltas[i_lay + 2][j] * next.curr_weights[i]\n",
        "\n",
        "        deltas[i_lay + 1][i] = sum * node.der_funct(node.value)\n",
        "\n",
        "    print(deltas)\n",
        "\n",
        "  \n",
        "  def predict(self, input):\n",
        "    # Se copian los valores del input en los nodos de la capa de entrada\n",
        "    for (index, value) in enumerate(input):\n",
        "      self.input_layer[index].value = value\n",
        "\n",
        "    # Se calculan los valores de las capas ocultas\n",
        "    for layer in self.hidden_layers:\n",
        "      for node in layer:\n",
        "        node.calculate_value()\n",
        "        print(f'{node.id}: {node.value}')\n",
        "\n",
        "    # Se calcula la salida sin aplicar la funcion de activacion al valor\n",
        "    for node in self.output_layer:\n",
        "      node.calculate_value(apply_function=False)\n",
        "\n",
        "    return [node.value for node in self.output_layer]\n",
        "\n",
        "\n",
        "  def _make_connections(self, layers):\n",
        "    '''\n",
        "    Realiza las conexiones entre las capas ingresadas, y retorna una malla de \n",
        "    la red neuronal (sin entrada ni salida)\n",
        "    '''\n",
        "    nodes_mesh = self._create_mesh(layers)\n",
        "    length = len(layers)\n",
        "\n",
        "    # For debug\n",
        "    ws = [[0.9, 0.8], [1.2], [0.7], [2.4]]\n",
        "    bs = [[0.01, 0.02], [0.04], [0.05], [0.03]]\n",
        "    j = 0\n",
        "\n",
        "    for i in range(1, length):\n",
        "      for node in nodes_mesh[i]:\n",
        "        node.add_layer(nodes_layer=nodes_mesh[i - 1], weights=ws[j], bias=sum(bs[j]))\n",
        "        j += 1\n",
        "\n",
        "    return nodes_mesh\n",
        "\n",
        "\n",
        "  def _create_mesh(self, layers):\n",
        "    '''\n",
        "    Crea una malla de capas, pero sin conecciones entre ellas\n",
        "    '''\n",
        "    nodes_mesh = []\n",
        "    function = self.get_function()\n",
        "\n",
        "    for current_layer in layers:\n",
        "      new_nodes_layer = [Neuron(function, id=(current_layer, j + 1)) for j in range(current_layer)] # for debug\n",
        "      #new_nodes_layer = [current_layer for j in range(current_layer)]  # for debug\n",
        "      #new_nodes_layer = [Neuron(function) for j in range(current_layer)]\n",
        "      nodes_mesh.append(new_nodes_layer)\n",
        "\n",
        "    return nodes_mesh\n",
        "\n",
        "\n",
        "  def _create_delta_set(self):\n",
        "    deltas_input = [0.0 for v in self.input_layer]\n",
        "    deltas_hidden = [[0.0 for v in layer] for layer in self.hidden_layers]\n",
        "    deltas_output = [0.0 for v in self.output_layer]\n",
        "\n",
        "    return [deltas_input, *deltas_hidden, deltas_output]"
      ],
      "execution_count": 20,
      "outputs": []
    },
    {
      "cell_type": "code",
      "metadata": {
        "id": "35r6lNMOgIlp"
      },
      "source": [
        "layers = [2, 1, 3]\n",
        "\n",
        "nn = NeuronalNetwork(3, 2, sigmoide)\n",
        "nn.add_layers(layers)"
      ],
      "execution_count": 21,
      "outputs": []
    },
    {
      "cell_type": "code",
      "metadata": {
        "id": "1hpyhQZqGP6k",
        "outputId": "92f1001a-2089-4877-f470-6e369b816d1f",
        "colab": {
          "base_uri": "https://localhost:8080/"
        }
      },
      "source": [
        "X = [[1, 2, 3], [4, 5, 6], [7, 8, 9]]\n",
        "y = [1, 2, 3]\n",
        "\n",
        "nn.fit(X, y)"
      ],
      "execution_count": 22,
      "outputs": [
        {
          "output_type": "stream",
          "text": [
            "(2, 1): 0.8115326747861805\n",
            "(2, 2): 0.7310585786300049\n",
            "(1, 1): 0.7933480859247232\n",
            "(3, 1): 0.7294862722276317\n",
            "(3, 2): 0.646877897736161\n",
            "(3, 3): 0.8736954059376705\n",
            "[[0.0, 0.0, 0.0], [0.0, 0.0], [0.0], [-0.020016645249981164, -0.04720390815643218, -0.005095785575760461], [-0.05299811745092449, -0.2497841555938329]]\n"
          ],
          "name": "stdout"
        }
      ]
    },
    {
      "cell_type": "code",
      "metadata": {
        "id": "QA-sN9K9gwyF"
      },
      "source": [
        "# For debugging\n",
        "def show_mesh(mesh):\n",
        "  for layer in mesh:\n",
        "    for node in layer:\n",
        "      for (index, neight) in enumerate(node.prev_layer):\n",
        "        print(f'{node.id} -> {neight.id}  w: {node.curr_weights[index]} v:{node.value}')"
      ],
      "execution_count": null,
      "outputs": []
    },
    {
      "cell_type": "code",
      "metadata": {
        "id": "AiIO-eKihjLd"
      },
      "source": [
        "# For debugging\n",
        "def show_mesh_reverted(mesh):\n",
        "  for layer in mesh:\n",
        "    for (layer_index, node) in enumerate(layer):\n",
        "      for (index, next_node) in enumerate(node.next_layer):\n",
        "        print(f'{node.id} -> {next_node.id} w:{next_node.curr_weights[layer_index]}')"
      ],
      "execution_count": null,
      "outputs": []
    },
    {
      "cell_type": "code",
      "metadata": {
        "colab": {
          "base_uri": "https://localhost:8080/"
        },
        "id": "neTZSeIqj26t",
        "outputId": "db6b6f8b-fa14-4763-eed7-3781686ee70e"
      },
      "source": [
        "d = 0.739304579579997 * 0.3 + 0.009 + 0.6535563064237191 * 0.7 + 0.12 + 0.8843939651086795 * 0.1 + 0.023\n",
        "sigmoide(d)"
      ],
      "execution_count": null,
      "outputs": [
        {
          "output_type": "execute_result",
          "data": {
            "text/plain": [
              "0.7149850880113883"
            ]
          },
          "metadata": {
            "tags": []
          },
          "execution_count": 44
        }
      ]
    },
    {
      "cell_type": "code",
      "metadata": {
        "colab": {
          "base_uri": "https://localhost:8080/"
        },
        "id": "L22u1SuDkhyS",
        "outputId": "1fdae853-a481-4b05-aec7-db3818e232b7"
      },
      "source": [
        "x = [3, 4.7, 7.8]\n",
        "print(nn.predict(x))"
      ],
      "execution_count": null,
      "outputs": [
        {
          "output_type": "stream",
          "text": [
            "(2, 1): 0.9488262990829084\n",
            "(2, 2): 0.9246310913535561\n",
            "(1, 1): 0.8352976939290254\n",
            "(3, 1): 0.739304579579997\n",
            "(3, 2): 0.6535563064237191\n",
            "(3, 3): 0.8843939651086795\n",
            "[1.3155436596877017, 0.9197201848814704]\n"
          ],
          "name": "stdout"
        }
      ]
    },
    {
      "cell_type": "code",
      "metadata": {
        "id": "r_ZCJzrobHvG"
      },
      "source": [
        "mesh = [*nn.hidden_layers]\n",
        "mesh.insert(0, nn.input_layer)\n",
        "mesh.append(nn.output_layer)"
      ],
      "execution_count": null,
      "outputs": []
    },
    {
      "cell_type": "code",
      "metadata": {
        "id": "fOTYBJHGk_GF",
        "colab": {
          "base_uri": "https://localhost:8080/"
        },
        "outputId": "d8e2439c-fc5a-483d-b9c0-ed3ea1c5fc9a"
      },
      "source": [
        "print('cantidad de capas totales:', len(mesh))\n",
        "\n",
        "show_mesh(mesh)"
      ],
      "execution_count": null,
      "outputs": [
        {
          "output_type": "stream",
          "text": [
            "cantidad de capas totales: 5\n",
            "(2, 1) -> (0, 1)  w: 0.1 v:0.0\n",
            "(2, 1) -> (0, 2)  w: 0.2 v:0.0\n",
            "(2, 1) -> (0, 3)  w: 0.15 v:0.0\n",
            "(2, 2) -> (0, 1)  w: 0.5 v:0.0\n",
            "(2, 2) -> (0, 2)  w: 0.01 v:0.0\n",
            "(2, 2) -> (0, 3)  w: 0.1 v:0.0\n",
            "(1, 1) -> (2, 1)  w: 0.9 v:0.0\n",
            "(1, 1) -> (2, 2)  w: 0.8 v:0.0\n",
            "(3, 1) -> (1, 1)  w: 1.2 v:0.0\n",
            "(3, 2) -> (1, 1)  w: 0.7 v:0.0\n",
            "(3, 3) -> (1, 1)  w: 2.4 v:0.0\n",
            "(-1, 1) -> (3, 1)  w: 0.5 v:0.0\n",
            "(-1, 1) -> (3, 2)  w: 0.6 v:0.0\n",
            "(-1, 1) -> (3, 3)  w: 0.4 v:0.0\n",
            "(-1, 2) -> (3, 1)  w: 0.3 v:0.0\n",
            "(-1, 2) -> (3, 2)  w: 0.7 v:0.0\n",
            "(-1, 2) -> (3, 3)  w: 0.1 v:0.0\n"
          ],
          "name": "stdout"
        }
      ]
    },
    {
      "cell_type": "code",
      "metadata": {
        "id": "o6KUXXAWh0IN",
        "colab": {
          "base_uri": "https://localhost:8080/"
        },
        "outputId": "7a60df2a-063c-4991-e78c-3d0a5ce3376e"
      },
      "source": [
        "show_mesh_reverted(mesh)"
      ],
      "execution_count": null,
      "outputs": [
        {
          "output_type": "stream",
          "text": [
            "(0, 1) -> (2, 1) w:0.1\n",
            "(0, 1) -> (2, 2) w:0.5\n",
            "(0, 2) -> (2, 1) w:0.2\n",
            "(0, 2) -> (2, 2) w:0.01\n",
            "(0, 3) -> (2, 1) w:0.15\n",
            "(0, 3) -> (2, 2) w:0.1\n",
            "(2, 1) -> (1, 1) w:0.9\n",
            "(2, 2) -> (1, 1) w:0.8\n",
            "(1, 1) -> (3, 1) w:1.2\n",
            "(1, 1) -> (3, 2) w:0.7\n",
            "(1, 1) -> (3, 3) w:2.4\n",
            "(3, 1) -> (-1, 1) w:0.5\n",
            "(3, 1) -> (-1, 2) w:0.3\n",
            "(3, 2) -> (-1, 1) w:0.6\n",
            "(3, 2) -> (-1, 2) w:0.7\n",
            "(3, 3) -> (-1, 1) w:0.4\n",
            "(3, 3) -> (-1, 2) w:0.1\n"
          ],
          "name": "stdout"
        }
      ]
    }
  ]
}