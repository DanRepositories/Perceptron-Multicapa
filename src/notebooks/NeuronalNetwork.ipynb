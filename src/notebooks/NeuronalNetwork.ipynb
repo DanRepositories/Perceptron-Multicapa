{
  "nbformat": 4,
  "nbformat_minor": 0,
  "metadata": {
    "colab": {
      "name": "NeuronalNetwork.ipynb",
      "provenance": [],
      "collapsed_sections": [],
      "authorship_tag": "ABX9TyOJkqDUbmwRt9pdo4LY5Jzq"
    },
    "kernelspec": {
      "name": "python3",
      "display_name": "Python 3"
    },
    "language_info": {
      "name": "python"
    }
  },
  "cells": [
    {
      "cell_type": "markdown",
      "metadata": {
        "id": "jGaRFENrQ4eA"
      },
      "source": [
        "# Definición de la neurona\n",
        "Se define la estructura de la neurona, la cual contendrá toda la información necesaria para que pueda realizar las operaciones que requiere."
      ]
    },
    {
      "cell_type": "code",
      "metadata": {
        "id": "sYgHZilTQjDS"
      },
      "source": [
        "import random\n",
        "\n",
        "class Neuron:\n",
        "  def __init__(self, function, value=0.0, id=None):\n",
        "    self.value = value\n",
        "    self.id = id\n",
        "    self.funct = function\n",
        "    self.der_funct = lambda F_x: F_x * (1 - F_x)\n",
        "    self.next_layer = []\n",
        "    self.prev_layer = []\n",
        "    self.curr_weights = []\n",
        "    self.bias = 1\n",
        "\n",
        "\n",
        "  def add_layer(self, nodes_layer=None):\n",
        "    self.prev_layer = nodes_layer\n",
        "    \n",
        "    for node in nodes_layer:\n",
        "      node.next_layer.append(self)\n",
        "      \n",
        "    self.curr_weights = [random.random() for n in nodes_layer]\n",
        "\n",
        "\n",
        "  def calculate_value(self, apply_function=True):\n",
        "    sum = 0.0\n",
        "    for (index, node) in enumerate(self.prev_layer):\n",
        "      sum += node.value * self.curr_weights[index]\n",
        "\n",
        "    self.value = sum + self.bias\n",
        "\n",
        "    if apply_function:\n",
        "      self.value = self.funct(self.value)\n",
        "\n",
        "    return self.value"
      ],
      "execution_count": 61,
      "outputs": []
    },
    {
      "cell_type": "markdown",
      "metadata": {
        "id": "IY8Y7_yAYmI8"
      },
      "source": [
        "## Probando la neurona\n",
        "Se realizan algunas pruebas para verificar que todas las funciones las realiza de una forma correcta.\n",
        "  Se crea una neurona que use la función sigmoide como función de activación, luego se le agrega una capa a partir de los valores que deberian tener los nodos. Por ultimo se calcula el valor activado de la neurona."
      ]
    },
    {
      "cell_type": "code",
      "metadata": {
        "colab": {
          "base_uri": "https://localhost:8080/"
        },
        "id": "BIUBPfFwRnij",
        "outputId": "22f1e081-c7ae-425c-b8ba-f666164fd644"
      },
      "source": [
        "import math\n",
        "\n",
        "def sigmoide(x):\n",
        "  return 1 / (1 + math.exp(-x))\n",
        "\n",
        "values = [0.34, 0.99, 0.03]\n",
        "nodes = [Neuron(sigmoide, v) for v in values]\n",
        "\n",
        "n = Neuron(sigmoide)\n",
        "n.add_layer(nodes)\n",
        "\n",
        "n.calculate_value()"
      ],
      "execution_count": 64,
      "outputs": [
        {
          "output_type": "execute_result",
          "data": {
            "text/plain": [
              "0.8098635551430515"
            ]
          },
          "metadata": {
            "tags": []
          },
          "execution_count": 64
        }
      ]
    },
    {
      "cell_type": "markdown",
      "metadata": {
        "id": "0-sbtsvXZoCo"
      },
      "source": [
        "# Definición de la red neuronal\n",
        "Se defina la estructura de la red neuronal, la cual tendra las funciones básicas para que pueda operar."
      ]
    },
    {
      "cell_type": "code",
      "metadata": {
        "id": "MwZ6RtNqZ4yG"
      },
      "source": [
        "class NeuronalNetwork:\n",
        "  def __init__(self, cant_input, cant_output, function):\n",
        "    self.input_layer = [Neuron(function, id=(0, i + 1)) for i in range(cant_input)]\n",
        "    self.output_layer = [Neuron(function, id=(-1, i + 1)) for i in range(cant_output)]\n",
        "    self.hidden_layers = []\n",
        "\n",
        "  def is_empty(self):\n",
        "    return len(self.hidden_layers) == 0\n",
        "\n",
        "  def get_function(self):\n",
        "    return self.input_layer[0].funct\n",
        "\n",
        "  def add_layers(self, layers):\n",
        "    # Se obtiene la malla\n",
        "    self.hidden_layers = self._make_connections(layers)\n",
        "\n",
        "   # Se conecta el principio de la malla con la capa de entrada\n",
        "    for node in self.hidden_layers[0]:\n",
        "      node.add_layer(nodes_layer=self.input_layer)\n",
        "\n",
        "    # Se conecta la capa de salida con el final de la malla\n",
        "    for node in self.output_layer:\n",
        "      node.add_layer(nodes_layer=self.hidden_layers[-1])\n",
        "\n",
        "\n",
        "  def fit(self, X, y, learning_rate=0.1):\n",
        "    # Por cada vector del conjunto de inputs, se ajusta el modelo\n",
        "    for x in X:\n",
        "      self.predict(x)\n",
        "      deltas = self._calculate_deltas()\n",
        "      self._update_weights(deltas, learning_rate)\n",
        "\n",
        "  \n",
        "  def predict(self, input):\n",
        "    # Se copian los valores del input en los nodos de la capa de entrada\n",
        "    for (index, value) in enumerate(input):\n",
        "      self.input_layer[index].value = value\n",
        "\n",
        "    # Se calculan los valores de las capas ocultas\n",
        "    for layer in self.hidden_layers:\n",
        "      for node in layer:\n",
        "        node.calculate_value()\n",
        "        print(f'{node.id}: {node.value}')\n",
        "\n",
        "    # Se calcula la salida sin aplicar la funcion de activacion al valor\n",
        "    for node in self.output_layer:\n",
        "      node.calculate_value()\n",
        "\n",
        "    return [node.value for node in self.output_layer]\n",
        "\n",
        "\n",
        "  def _make_connections(self, layers):\n",
        "    '''\n",
        "    Realiza las conexiones entre las capas ingresadas, y retorna una malla de \n",
        "    la red neuronal (sin entrada ni salida)\n",
        "    '''\n",
        "    nodes_mesh = self._create_mesh(layers)\n",
        "    length = len(layers)\n",
        "\n",
        "    for i in range(1, length):\n",
        "      for node in nodes_mesh[i]:\n",
        "        node.add_layer(nodes_layer=nodes_mesh[i - 1])\n",
        "\n",
        "    return nodes_mesh\n",
        "\n",
        "\n",
        "  def _create_mesh(self, layers):\n",
        "    '''\n",
        "    Crea una malla de capas, pero sin conecciones entre ellas\n",
        "    '''\n",
        "    nodes_mesh = []\n",
        "    function = self.get_function()\n",
        "\n",
        "    for current_layer in layers:\n",
        "      new_nodes_layer = [Neuron(function, id=(current_layer, j + 1)) for j in range(current_layer)] # for debug\n",
        "      #new_nodes_layer = [current_layer for j in range(current_layer)]  # for debug\n",
        "      #new_nodes_layer = [Neuron(function) for j in range(current_layer)]\n",
        "      nodes_mesh.append(new_nodes_layer)\n",
        "\n",
        "    return nodes_mesh\n",
        "\n",
        "\n",
        "  def _update_weights(self, deltas, learning_rate):\n",
        "    # Se actualizan los pesos de la primera capa oculta\n",
        "    self._update_layer_weight(self.input_layer, 0, deltas, learning_rate)\n",
        "\n",
        "    # Se actualizan los pesos de la segunda capa oculta\n",
        "    for (i, layer) in enumerate(self.hidden_layers):\n",
        "      self._update_layer_weight(layer, i + 1, deltas, learning_rate)\n",
        "\n",
        "\n",
        "  def _update_layer_weight(self, layer, i_delta, deltas, learning_rate):\n",
        "    for (i, node) in enumerate(layer):\n",
        "      for (j, next) in enumerate(node.next_layer):\n",
        "        new_weight = -learning_rate * deltas[i_delta][j] * next.value\n",
        "        next.curr_weights[i] = new_weight\n",
        "\n",
        "\n",
        "  def _calculate_deltas(self):\n",
        "    deltas = self._create_delta_set()\n",
        "    \n",
        "    # Se calculan los deltas de la capa de salida\n",
        "    for (index, node) in enumerate(self.output_layer):\n",
        "      deltas[-1][index] = (node.value - y[index]) * node.der_funct(node.value)\n",
        "\n",
        "    length_hidden = len(self.hidden_layers)\n",
        "\n",
        "    # Se calculan los deltas de las capas ocultas\n",
        "    for i in range(length_hidden):\n",
        "      i_lay = length_hidden - i - 1\n",
        "      layer = self.hidden_layers[i_lay]\n",
        "\n",
        "      for (j, node) in enumerate(layer):\n",
        "        sum = 0.0\n",
        "\n",
        "        for (k, next) in enumerate(node.next_layer):\n",
        "          sum += deltas[i_lay + 1][k] * next.curr_weights[j]\n",
        "\n",
        "        deltas[i_lay][j] = sum * node.der_funct(node.value)\n",
        "\n",
        "    return deltas\n",
        "\n",
        "  def _create_delta_set(self):\n",
        "    deltas_hidden = [[0.0 for v in layer] for layer in self.hidden_layers]\n",
        "    deltas_output = [0.0 for v in self.output_layer]\n",
        "\n",
        "    return [*deltas_hidden, deltas_output]"
      ],
      "execution_count": 85,
      "outputs": []
    },
    {
      "cell_type": "code",
      "metadata": {
        "id": "35r6lNMOgIlp"
      },
      "source": [
        "layers = [2, 1, 3]\n",
        "\n",
        "nn = NeuronalNetwork(3, 2, sigmoide)\n",
        "nn.add_layers(layers)"
      ],
      "execution_count": 79,
      "outputs": []
    },
    {
      "cell_type": "code",
      "metadata": {
        "id": "1hpyhQZqGP6k",
        "colab": {
          "base_uri": "https://localhost:8080/"
        },
        "outputId": "08703fe9-67b8-4c2b-bb3a-44fe57006637"
      },
      "source": [
        "X = [[1, 2, 3], [4, 5, 6], [7, 8, 9]]\n",
        "y = [1, 2, 3]\n",
        "\n",
        "nn.fit(X, y)"
      ],
      "execution_count": 84,
      "outputs": [
        {
          "output_type": "stream",
          "text": [
            "(2, 1): 0.7310585786302926\n",
            "(2, 2): 0.7310585786302926\n",
            "(1, 1): 0.7310585815295213\n",
            "(3, 1): 0.7310625108504119\n",
            "(3, 2): 0.7310625108786869\n",
            "(3, 3): 0.7310625113053609\n"
          ],
          "name": "stdout"
        }
      ]
    },
    {
      "cell_type": "code",
      "metadata": {
        "colab": {
          "base_uri": "https://localhost:8080/"
        },
        "id": "L22u1SuDkhyS",
        "outputId": "67d16b04-91c7-4b4b-9fd8-35f240f31424"
      },
      "source": [
        "x = [3, 4.7, 7.8]\n",
        "print(nn.predict(x))"
      ],
      "execution_count": 83,
      "outputs": [
        {
          "output_type": "stream",
          "text": [
            "(2, 1): 0.731058578630748\n",
            "(2, 2): 0.731058578630748\n",
            "(1, 1): 0.7310585815295213\n",
            "(3, 1): 0.7310625108504119\n",
            "(3, 2): 0.7310625108786869\n",
            "(3, 3): 0.7310625113053609\n",
            "[0.7327209211229652, 0.7388049389137314]\n"
          ],
          "name": "stdout"
        }
      ]
    },
    {
      "cell_type": "code",
      "metadata": {
        "id": "QA-sN9K9gwyF"
      },
      "source": [
        "# For debugging\n",
        "def show_mesh(mesh):\n",
        "  for layer in mesh:\n",
        "    for node in layer:\n",
        "      for (index, neight) in enumerate(node.prev_layer):\n",
        "        print(f'{node.id} -> {neight.id}  w: {node.curr_weights[index]} v:{node.value}')"
      ],
      "execution_count": 47,
      "outputs": []
    },
    {
      "cell_type": "code",
      "metadata": {
        "id": "AiIO-eKihjLd"
      },
      "source": [
        "# For debugging\n",
        "def show_mesh_reverted(mesh):\n",
        "  for layer in mesh:\n",
        "    for (layer_index, node) in enumerate(layer):\n",
        "      for (index, next_node) in enumerate(node.next_layer):\n",
        "        print(f'{node.id} -> {next_node.id} w:{next_node.curr_weights[layer_index]}')"
      ],
      "execution_count": 48,
      "outputs": []
    },
    {
      "cell_type": "code",
      "metadata": {
        "colab": {
          "base_uri": "https://localhost:8080/"
        },
        "id": "neTZSeIqj26t",
        "outputId": "db6b6f8b-fa14-4763-eed7-3781686ee70e"
      },
      "source": [
        "d = 0.739304579579997 * 0.3 + 0.009 + 0.6535563064237191 * 0.7 + 0.12 + 0.8843939651086795 * 0.1 + 0.023\n",
        "sigmoide(d)"
      ],
      "execution_count": null,
      "outputs": [
        {
          "output_type": "execute_result",
          "data": {
            "text/plain": [
              "0.7149850880113883"
            ]
          },
          "metadata": {
            "tags": []
          },
          "execution_count": 44
        }
      ]
    },
    {
      "cell_type": "code",
      "metadata": {
        "id": "r_ZCJzrobHvG"
      },
      "source": [
        "mesh = [*nn.hidden_layers]\n",
        "mesh.insert(0, nn.input_layer)\n",
        "mesh.append(nn.output_layer)"
      ],
      "execution_count": 50,
      "outputs": []
    },
    {
      "cell_type": "code",
      "metadata": {
        "id": "fOTYBJHGk_GF",
        "colab": {
          "base_uri": "https://localhost:8080/"
        },
        "outputId": "451d1760-16d1-41db-d9cf-11b1bd98afe9"
      },
      "source": [
        "print('cantidad de capas totales:', len(mesh))\n",
        "\n",
        "show_mesh(mesh)"
      ],
      "execution_count": 51,
      "outputs": [
        {
          "output_type": "stream",
          "text": [
            "cantidad de capas totales: 5\n",
            "(2, 1) -> (0, 1)  w: 0.00012690555604301777 v:0.6252674803279497\n",
            "(2, 1) -> (0, 2)  w: 0.00012690555604301777 v:0.6252674803279497\n",
            "(2, 1) -> (0, 3)  w: 0.00012690555604301777 v:0.6252674803279497\n",
            "(2, 2) -> (0, 1)  w: 0.00013062974440666757 v:0.5453809587378066\n",
            "(2, 2) -> (0, 2)  w: 0.00013062974440666757 v:0.5453809587378066\n",
            "(2, 2) -> (0, 3)  w: 0.00013062974440666757 v:0.5453809587378066\n",
            "(1, 1) -> (2, 1)  w: 0.0009012677211750377 v:0.5077631430137003\n",
            "(1, 1) -> (2, 2)  w: 0.0009012677211750377 v:0.5077631430137003\n",
            "(3, 1) -> (1, 1)  w: 0.0014601867925911692 v:0.51018394863359\n",
            "(3, 2) -> (1, 1)  w: 0.0030535164873163674 v:0.5128847625239672\n",
            "(3, 3) -> (1, 1)  w: 0.0004452164447185362 v:0.5075559408656884\n",
            "(-1, 1) -> (3, 1)  w: 0.004166870398071568 v:0.5514121299252297\n",
            "(-1, 1) -> (3, 2)  w: 0.004166870398071568 v:0.5514121299252297\n",
            "(-1, 1) -> (3, 3)  w: 0.004166870398071568 v:0.5514121299252297\n",
            "(-1, 2) -> (3, 1)  w: 0.01781487764902003 v:0.5446973336938459\n",
            "(-1, 2) -> (3, 2)  w: 0.01781487764902003 v:0.5446973336938459\n",
            "(-1, 2) -> (3, 3)  w: 0.01781487764902003 v:0.5446973336938459\n"
          ],
          "name": "stdout"
        }
      ]
    },
    {
      "cell_type": "code",
      "metadata": {
        "id": "o6KUXXAWh0IN",
        "colab": {
          "base_uri": "https://localhost:8080/"
        },
        "outputId": "a3a78774-f222-4e39-e7d9-0b0f4015a499"
      },
      "source": [
        "show_mesh_reverted(mesh)"
      ],
      "execution_count": 52,
      "outputs": [
        {
          "output_type": "stream",
          "text": [
            "(0, 1) -> (2, 1) w:0.00012690555604301777\n",
            "(0, 1) -> (2, 2) w:0.00013062974440666757\n",
            "(0, 2) -> (2, 1) w:0.00012690555604301777\n",
            "(0, 2) -> (2, 2) w:0.00013062974440666757\n",
            "(0, 3) -> (2, 1) w:0.00012690555604301777\n",
            "(0, 3) -> (2, 2) w:0.00013062974440666757\n",
            "(2, 1) -> (1, 1) w:0.0009012677211750377\n",
            "(2, 2) -> (1, 1) w:0.0009012677211750377\n",
            "(1, 1) -> (3, 1) w:0.0014601867925911692\n",
            "(1, 1) -> (3, 2) w:0.0030535164873163674\n",
            "(1, 1) -> (3, 3) w:0.0004452164447185362\n",
            "(3, 1) -> (-1, 1) w:0.004166870398071568\n",
            "(3, 1) -> (-1, 2) w:0.01781487764902003\n",
            "(3, 2) -> (-1, 1) w:0.004166870398071568\n",
            "(3, 2) -> (-1, 2) w:0.01781487764902003\n",
            "(3, 3) -> (-1, 1) w:0.004166870398071568\n",
            "(3, 3) -> (-1, 2) w:0.01781487764902003\n"
          ],
          "name": "stdout"
        }
      ]
    }
  ]
}